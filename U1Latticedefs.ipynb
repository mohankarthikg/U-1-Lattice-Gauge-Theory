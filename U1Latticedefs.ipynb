{
 "cells": [
  {
   "cell_type": "code",
   "execution_count": 1,
   "metadata": {},
   "outputs": [],
   "source": [
    "from math import sqrt,exp,pi,cos,sin\n",
    "from random import randint,random\n",
    "import matplotlib.pyplot as plt\n",
    "import numpy as np\n",
    "import json\n",
    "#from multiprocessing import Pool\n",
    "#import time"
   ]
  },
  {
   "cell_type": "code",
   "execution_count": null,
   "metadata": {},
   "outputs": [],
   "source": [
    "class site():\n",
    "\n",
    "    def __init__(self,x,y,z,t,n):\n",
    "        self.Flinks = [1 + 0j]*n\n",
    "        self.Blinks = [1 +0j]*n\n",
    "        self.x = x\n",
    "        self.y = y\n",
    "        self.z = z\n",
    "        self.t = t\n",
    "        self.nsite = []\n",
    "        self.bsite = []\n",
    "    \n",
    "    def Fconnect(self, site):\n",
    "        self.nsite.append(site)\n",
    "    \n",
    "    def Bconnect(self, site):\n",
    "        self.bsite.append(site)\n",
    "        "
   ]
  },
  {
   "cell_type": "code",
   "execution_count": null,
   "metadata": {},
   "outputs": [],
   "source": [
    "def create_lattice(Nx, Ny, Nz, Nt, n):\n",
    "    Lattice = []\n",
    "    for i in range(Nx):\n",
    "        temp = []\n",
    "        for j in range(Ny):\n",
    "            temp2 = []\n",
    "            for k in range(Nz):\n",
    "                temp3 = []\n",
    "                for t in range(Nt):\n",
    "                    s = site(i, j, k, t, n)\n",
    "                    temp3.append(s)\n",
    "                temp2.append(temp3)\n",
    "            temp.append(temp2)\n",
    "        Lattice.append(temp)\n",
    "        \n",
    "    for i in range(Nx):\n",
    "        for j in range(Ny):\n",
    "            for k in range(Nz):\n",
    "                for t in range(Nt):\n",
    "                    Lattice[i][j][k][t].Fconnect(Lattice[(i+1)%Nx][j][k][t])\n",
    "                    Lattice[i][j][k][t].Fconnect(Lattice[i][(j+1)%Ny][k][t])\n",
    "                    Lattice[i][j][k][t].Fconnect(Lattice[i][j][(k+1)%Nz][t])\n",
    "                    Lattice[i][j][k][t].Fconnect(Lattice[i][j][k][(t+1)%Nt])\n",
    "                    Lattice[i][j][k][t].Bconnect(Lattice[(i-1 + Nx)%Nx][j][k][t])\n",
    "                    Lattice[i][j][k][t].Bconnect(Lattice[i][(j-1+Ny)%Ny][k][t])\n",
    "                    Lattice[i][j][k][t].Bconnect(Lattice[i][j][(k-1 + Nz)%Nz][t])\n",
    "                    Lattice[i][j][k][t].Bconnect(Lattice[i][j][k][(t-1 + Nt)%Nt])\n",
    "                    \n",
    "            \n",
    "            \n",
    "    return Lattice        "
   ]
  },
  {
   "cell_type": "code",
   "execution_count": null,
   "metadata": {},
   "outputs": [],
   "source": [
    "def dS(site, dire, newlink, n , Lattice, beta ):\n",
    "    L = Lattice\n",
    "    sold = 0\n",
    "    snew = 0\n",
    "    s = site\n",
    "    d = dire\n",
    "    for i in range(n):\n",
    "        if i != dire:\n",
    "            sold += 1 - s.Flinks[d]*s.nsite[d].Flinks[i]*complex.conjugate(s.nsite[i].Flinks[d])*complex.conjugate(s.Flinks[i])\n",
    "            sold += 1 - complex.conjugate(s.Flinks[d])*complex.conjugate(s.bsite[i].Flinks[i])*s.bsite[i].Flinks[d]*s.bsite[i].nsite[d].Flinks[i]  \n",
    "            snew += 1 - newlink*s.nsite[d].Flinks[i]*complex.conjugate(s.nsite[i].Flinks[d])*complex.conjugate(s.Flinks[i])\n",
    "            snew += 1 - complex.conjugate(newlink)*complex.conjugate(s.bsite[i].Flinks[i])*s.bsite[i].Flinks[d]*s.bsite[i].nsite[d].Flinks[i]\n",
    "            \n",
    "    return beta*(snew.real - sold.real)"
   ]
  },
  {
   "cell_type": "code",
   "execution_count": null,
   "metadata": {},
   "outputs": [],
   "source": [
    "def placq(site, dir1, dir2):\n",
    "    s = site\n",
    "    d1 = dir1\n",
    "    d2 = dir2\n",
    "    pl = 0\n",
    "    pl += 1 - s.Flinks[d1]*s.nsite[d1].Flinks[d2]*complex.conjugate(s.nsite[d2].Flinks[d1])*complex.conjugate(s.Flinks[d2])\n",
    "    return pl.real"
   ]
  },
  {
   "cell_type": "code",
   "execution_count": null,
   "metadata": {},
   "outputs": [],
   "source": [
    "def S_per_plq(Lattice, Nx, Ny, Nz, Nt, beta):\n",
    "    S = 0\n",
    "    for x in range(Nx):\n",
    "        for y in range(Ny):\n",
    "            for z in range(Nz):\n",
    "                for t in range(Nt):\n",
    "                    s = Lattice[x][y][z][t]\n",
    "                    S += placq(s, 0, 1)\n",
    "                    S += placq(s, 0, 2)\n",
    "                    S += placq(s, 0, 3)\n",
    "                    S += placq(s, 1, 2)\n",
    "                    S += placq(s, 1, 3)\n",
    "                    S += placq(s, 2, 3)\n",
    "    \n",
    "    return S/(Nx*Ny*Nz*Nt*6)"
   ]
  },
  {
   "cell_type": "code",
   "execution_count": null,
   "metadata": {},
   "outputs": [],
   "source": [
    "def S(Lattice, Nx, Ny, Nz, Nt, beta):\n",
    "    S = 0\n",
    "    for x in range(Nx):\n",
    "        for y in range(Ny):\n",
    "            for z in range(Nz):\n",
    "                for t in range(Nt):\n",
    "                    s = Lattice[x][y][z][t]\n",
    "                    S += 1 - placq(s, 0, 1)\n",
    "                    S += 1- placq(s, 0, 2)\n",
    "                    S += 1 - placq(s, 0, 3)\n",
    "                    S += 1 - placq(s, 1, 2)\n",
    "                    S += 1 - placq(s, 1, 3)\n",
    "                    S += 1 - placq(s, 2, 3)\n",
    "    \n",
    "    return -beta*S"
   ]
  },
  {
   "cell_type": "code",
   "execution_count": null,
   "metadata": {},
   "outputs": [],
   "source": [
    "def Metropolis(Lattice, Nx,Ny,Nz,Nt, n, n_sweep, beta):\n",
    "    Action = []\n",
    "    Act_per_pl = []\n",
    "    \n",
    "    #initialize#\n",
    "    h = 1\n",
    "    idrate = 0.8\n",
    "    ####\n",
    "    \n",
    "    for ns in range(n_sweep):\n",
    "        accrate = 0\n",
    "        for num in range(n):\n",
    "            for i in range(Nx):\n",
    "                for k in range(Ny):\n",
    "                    for t in range(Nz):\n",
    "                        for j in range(Nt):\n",
    "                            x = randint(0, Nx-1)\n",
    "                            y = randint(0, Ny-1)\n",
    "                            z = randint(0, Nz-1)\n",
    "                            t1 = randint(0, Nt-1)\n",
    "                            dire = randint(0, n-1)\n",
    "                            s = Lattice[x][y][z][t1]\n",
    "                            th =   h*(random() - 0.5)%(2*pi)\n",
    "                            X = cos(th) + 1j*sin(th)\n",
    "                            newlink = X*s.Flinks[dire]\n",
    "                            newlink = newlink/abs(newlink)\n",
    "                            if random() <= min(1, exp(-dS(s, dire, newlink, n, Lattice, beta))):\n",
    "                            #print(newlink, s.Flinks[dire], dS(s, dire, newlink, n, Lattice, a))\n",
    "                                s.Flinks[dire] = newlink\n",
    "                                s.nsite[dire].Blinks[dire] = complex.conjugate(newlink)\n",
    "                                accrate = accrate + 1/(Nx*Ny*Nz*Nt*n)\n",
    "        h = h*accrate/idrate\n",
    "        \n",
    "        #print(h, accrate)\n",
    "        \n",
    "        Action.append(S(Lattice, Nx, Ny,Nz, Nt, beta))\n",
    "        Act_per_pl.append(S_per_plq(Lattice, Nx, Ny, Nz, Nt, beta))\n",
    "    \n",
    "    return Action, Act_per_pl \n",
    "            \n",
    "            "
   ]
  },
  {
   "cell_type": "code",
   "execution_count": null,
   "metadata": {},
   "outputs": [],
   "source": [
    "beta = [i*0.1 for i in range(2, 20)]   \n",
    "n_sweep = 1500\n",
    "Actiperplq = []\n",
    "Action = []\n",
    "for bt in beta:\n",
    "    Lattice = create_lattice(Nx =8, Ny=8, Nz=8, Nt=8, n=4)\n",
    "    data = Metropolis(Lattice, 8, 8, 8, 8, 4, n_sweep, bt)\n",
    "    Actiperplq.append(data[1])\n",
    "    Action.append(data[0])\n",
    "    \n"
   ]
  },
  {
   "cell_type": "code",
   "execution_count": null,
   "metadata": {},
   "outputs": [],
   "source": [
    "with open('met_data.txt', 'w') as f:\n",
    "    f.write(json.dumps(Actiperplq))\n",
    "    "
   ]
  },
  {
   "cell_type": "code",
   "execution_count": null,
   "metadata": {},
   "outputs": [],
   "source": [
    "with open('met_data2.txt', 'w') as f:\n",
    "    f.write(json.dumps(Action))"
   ]
  },
  {
   "cell_type": "code",
   "execution_count": 2,
   "metadata": {},
   "outputs": [],
   "source": [
    "with open('met_data.txt', 'r') as f:\n",
    "    Actiperplq = json.loads(f.read())\n",
    "with open('met_data2.txt', 'r') as f:\n",
    "    Action = json.loads(f.read())"
   ]
  },
  {
   "cell_type": "code",
   "execution_count": 20,
   "metadata": {},
   "outputs": [
    {
     "data": {
      "image/png": "[encoded data removed]",
      "text/plain": [
       "<Figure size 432x288 with 1 Axes>"
      ]
     },
     "metadata": {
      "needs_background": "light"
     },
     "output_type": "display_data"
    }
   ],
   "source": [
    "beta = [i*0.1 for i in range(2, 20)]   \n",
    "plt.plot(beta,[np.mean(Act[200:])/6 for Act in Actiperplq], label = \"Monte Carlo result\" )\n",
    "b = np.arange(0.2, 2., 0.01)\n",
    "str_coup = [1- bt/2 for bt in b]\n",
    "weak_coup = [(1/(4*bt)) for bt in b]\n",
    "plt.plot(b, str_coup, 'r--',label = \"Strong Coupling\")\n",
    "plt.plot(b, weak_coup, 'g--',label = \"Weak Coupling\")\n",
    "plt.xlabel(\"β-Coupling Strength\");\n",
    "plt.ylabel(\"P-Action per plaquette\");\n",
    "plt.legend()\n",
    "plt.show()\n"
   ]
  },
  {
   "cell_type": "code",
   "execution_count": 9,
   "metadata": {},
   "outputs": [
    {
     "data": {
      "image/png": "[encoded data removed]",
      "text/plain": [
       "<Figure size 432x288 with 1 Axes>"
      ]
     },
     "metadata": {
      "needs_background": "light"
     },
     "output_type": "display_data"
    }
   ],
   "source": [
    "plt.plot(beta,[np.mean(S[200:])/(8*8*8*8) for S in Action] )\n",
    "plt.xlabel(\"β-Coupling Strength\");\n",
    "plt.ylabel(\"S/N^4 Total Action\");"
   ]
  },
  {
   "cell_type": "code",
   "execution_count": 8,
   "metadata": {},
   "outputs": [
    {
     "data": {
      "image/png": "[encoded data removed]",
      "text/plain": [
       "<Figure size 432x288 with 1 Axes>"
      ]
     },
     "metadata": {
      "needs_background": "light"
     },
     "output_type": "display_data"
    }
   ],
   "source": [
    "plt.plot(beta,[(np.std(S[200:])**2)/(8*8*8*8) for S in Action] )\n",
    "plt.xlabel(\"β-Coupling Strength\");\n",
    "plt.ylabel(\"Cv-Specific Heat\");"
   ]
  },
  {
   "cell_type": "code",
   "execution_count": null,
   "metadata": {},
   "outputs": [],
   "source": []
  }
 ],
 "metadata": {
  "kernelspec": {
   "display_name": "Python 3",
   "language": "python",
   "name": "python3"
  },
  "language_info": {
   "codemirror_mode": {
    "name": "ipython",
    "version": 3
   },
   "file_extension": ".py",
   "mimetype": "text/x-python",
   "name": "python",
   "nbconvert_exporter": "python",
   "pygments_lexer": "ipython3",
   "version": "3.8.5"
  }
 },
 "nbformat": 4,
 "nbformat_minor": 4
}
